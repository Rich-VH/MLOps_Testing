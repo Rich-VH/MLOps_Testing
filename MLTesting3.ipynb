{
 "cells": [
  {
   "cell_type": "code",
   "execution_count": 1,
   "metadata": {},
   "outputs": [],
   "source": [
    "from sklearn import datasets\n",
    "import pandas as pd\n",
    "import numpy as np\n",
    "\n",
    "iris = datasets.load_iris()\n",
    "\n",
    "iris_frame = pd.DataFrame(iris.data, columns=iris.feature_names)\n",
    "\n",
    "iris_frame['target'] = iris.target"
   ]
  },
  {
   "cell_type": "markdown",
   "metadata": {},
   "source": [
    "# Creating our Pipelines"
   ]
  },
  {
   "cell_type": "code",
   "execution_count": 2,
   "metadata": {},
   "outputs": [],
   "source": [
    "from sklearn.linear_model import LogisticRegression\n",
    "from sklearn.model_selection import train_test_split\n",
    "\n",
    "\n",
    "class SimplePipeline:\n",
    "    def __init__(self):\n",
    "        self.frame = None\n",
    "        self.X_train, self.X_test, self.y_train, self.Y_test = None, None, None, None\n",
    "        self.model = None\n",
    "        self.load_dataset()\n",
    "    \n",
    "    def load_dataset(self):\n",
    "        \"\"\"Load the dataset and perform train test split.\"\"\"\n",
    "        dataset = datasets.load_iris()\n",
    "        \n",
    "        # remove units ' (cm)' from variable names\n",
    "        self.feature_names = [fn[:-5] for fn in dataset.feature_names]\n",
    "        self.frame = pd.DataFrame(dataset.data, columns=self.feature_names)\n",
    "        self.frame['target'] = dataset.target\n",
    "        \n",
    "        self.X_train, self.X_test, self.y_train, self.y_test = train_test_split(\n",
    "            self.frame[self.feature_names], self.frame.target, test_size=0.65, random_state=42)\n",
    "        \n",
    "    def train(self, algorithm=LogisticRegression):\n",
    "        \n",
    "        self.model = algorithm(solver='lbfgs', multi_class='auto')\n",
    "        self.model.fit(self.X_train, self.y_train)\n",
    "        \n",
    "    def predict(self, input_data):\n",
    "        return self.model.predict(input_data)\n",
    "        \n",
    "    def get_accuracy(self):\n",
    "        \n",
    "        return self.model.score(X=self.X_test, y=self.y_test)\n",
    "    \n",
    "    def run_pipeline(self):\n",
    "        \"\"\"Helper method to run multiple pipeline methods with one call.\"\"\"\n",
    "        self.load_dataset()\n",
    "        self.train()"
   ]
  },
  {
   "cell_type": "code",
   "execution_count": 3,
   "metadata": {},
   "outputs": [],
   "source": [
    "from sklearn.preprocessing import StandardScaler\n",
    "\n",
    "\n",
    "class PipelineWithDataEngineering(SimplePipeline):\n",
    "    def __init__(self):\n",
    "        super().__init__()\n",
    "        \n",
    "        self.scaler = StandardScaler()\n",
    "        \n",
    "        self.scaler.fit(self.X_train)\n",
    "    \n",
    "    def apply_scaler(self):\n",
    "        self.X_train = self.scaler.transform(self.X_train)\n",
    "        self.X_test = self.scaler.transform(self.X_test)\n",
    "        \n",
    "    def predict(self, input_data):\n",
    "        scaled_input_data = self.scaler.transform(input_data)\n",
    "        return self.model.predict(scaled_input_data)\n",
    "                  \n",
    "    def run_pipeline(self):\n",
    "        \"\"\"Helper method to run multiple pipeline methods with one call.\"\"\"\n",
    "        self.load_dataset()\n",
    "        self.apply_scaler()\n",
    "        self.train()"
   ]
  },
  {
   "cell_type": "markdown",
   "metadata": {},
   "source": [
    "# Preparing for the Unit Testing"
   ]
  },
  {
   "cell_type": "code",
   "execution_count": 4,
   "metadata": {},
   "outputs": [
    {
     "data": {
      "text/plain": [
       "target\n",
       "0    50\n",
       "1    50\n",
       "2    50\n",
       "Name: count, dtype: int64"
      ]
     },
     "execution_count": 4,
     "metadata": {},
     "output_type": "execute_result"
    }
   ],
   "source": [
    "iris_frame['target'].value_counts()"
   ]
  },
  {
   "cell_type": "code",
   "execution_count": 10,
   "metadata": {},
   "outputs": [],
   "source": [
    "import unittest\n",
    "from sklearn.metrics import mean_squared_error, accuracy_score\n",
    "\n",
    "class TestIrisPredictions(unittest.TestCase):\n",
    "    def setUp(self):\n",
    "        self.pipeline_v1 = SimplePipeline()\n",
    "        self.pipeline_v2 = PipelineWithDataEngineering()\n",
    "        self.pipeline_v1.run_pipeline()\n",
    "        self.pipeline_v2.run_pipeline()\n",
    "        \n",
    "        self.benchmark_predictions = [1.0] * len(self.pipeline_v1.y_test)\n",
    "    \n",
    "    def test_accuracy_higher_than_benchmark(self):\n",
    "        benchmark_accuracy = accuracy_score(\n",
    "            y_true=self.pipeline_v1.y_test,\n",
    "            y_pred=self.benchmark_predictions)\n",
    "        \n",
    "        predictions = self.pipeline_v1.predict(self.pipeline_v1.X_test)\n",
    "        \n",
    "        actual_accuracy = accuracy_score(\n",
    "            y_true=self.pipeline_v1.y_test,\n",
    "            y_pred=predictions)\n",
    "        \n",
    "        print(f'model accuracy: {actual_accuracy}, benchmark accuracy: {benchmark_accuracy}')\n",
    "        self.assertTrue(actual_accuracy > benchmark_accuracy)\n",
    "        \n",
    "    def test_accuracy_compared_to_previous_version(self):\n",
    "        v1_accuracy = self.pipeline_v1.get_accuracy()\n",
    "        v2_accuracy = self.pipeline_v2.get_accuracy()\n",
    "        print(f'pipeline v1 accuracy: {v1_accuracy}')\n",
    "        print(f'pipeline v2 accuracy: {v2_accuracy}')\n",
    "        \n",
    "        self.assertTrue(v2_accuracy >= v1_accuracy)"
   ]
  },
  {
   "cell_type": "code",
   "execution_count": 12,
   "metadata": {},
   "outputs": [
    {
     "name": "stderr",
     "output_type": "stream",
     "text": [
      "F.\n",
      "======================================================================\n",
      "FAIL: test_accuracy_compared_to_previous_version (__main__.TestIrisPredictions)\n",
      "----------------------------------------------------------------------\n",
      "Traceback (most recent call last):\n",
      "  File \"/var/folders/5w/ykddgrfn7sx_lxz9ztw3m9nm0000gn/T/ipykernel_88028/1509151972.py\", line 33, in test_accuracy_compared_to_previous_version\n",
      "    self.assertTrue(v2_accuracy >= v1_accuracy)\n",
      "AssertionError: False is not true\n",
      "\n",
      "----------------------------------------------------------------------\n",
      "Ran 2 tests in 0.100s\n",
      "\n",
      "FAILED (failures=1)\n"
     ]
    },
    {
     "name": "stdout",
     "output_type": "stream",
     "text": [
      "pipeline v1 accuracy: 0.9693877551020408\n",
      "pipeline v2 accuracy: 0.9591836734693877\n",
      "model accuracy: 0.9693877551020408, benchmark accuracy: 0.32653061224489793\n"
     ]
    },
    {
     "data": {
      "text/plain": [
       "<unittest.runner.TextTestResult run=2 errors=0 failures=1>"
      ]
     },
     "execution_count": 12,
     "metadata": {},
     "output_type": "execute_result"
    }
   ],
   "source": [
    "import sys\n",
    "\n",
    "suite = unittest.TestLoader().loadTestsFromTestCase(TestIrisPredictions)\n",
    "unittest.TextTestRunner(verbosity=1, stream=sys.stderr).run(suite)"
   ]
  }
 ],
 "metadata": {
  "kernelspec": {
   "display_name": "Python 3.10.6 64-bit",
   "language": "python",
   "name": "python3"
  },
  "language_info": {
   "codemirror_mode": {
    "name": "ipython",
    "version": 3
   },
   "file_extension": ".py",
   "mimetype": "text/x-python",
   "name": "python",
   "nbconvert_exporter": "python",
   "pygments_lexer": "ipython3",
   "version": "3.10.11"
  },
  "orig_nbformat": 4,
  "vscode": {
   "interpreter": {
    "hash": "aee8b7b246df8f9039afb4144a1f6fd8d2ca17a180786b69acc140d282b71a49"
   }
  }
 },
 "nbformat": 4,
 "nbformat_minor": 2
}
